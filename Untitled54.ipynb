{
  "nbformat": 4,
  "nbformat_minor": 0,
  "metadata": {
    "colab": {
      "name": "Untitled54.ipynb",
      "provenance": [],
      "authorship_tag": "ABX9TyNatKUOrGqAx8mvBjwBl32R",
      "include_colab_link": true
    },
    "kernelspec": {
      "name": "python3",
      "display_name": "Python 3"
    }
  },
  "cells": [
    {
      "cell_type": "markdown",
      "metadata": {
        "id": "view-in-github",
        "colab_type": "text"
      },
      "source": [
        "<a href=\"https://colab.research.google.com/github/prajna-nayak-098/Applications-of-python-in-DA-and-ML1/blob/master/Untitled54.ipynb\" target=\"_parent\"><img src=\"https://colab.research.google.com/assets/colab-badge.svg\" alt=\"Open In Colab\"/></a>"
      ]
    },
    {
      "cell_type": "code",
      "metadata": {
        "id": "sm6NbY4kV7Ks",
        "colab_type": "code",
        "colab": {
          "base_uri": "https://localhost:8080/",
          "height": 286
        },
        "outputId": "aa1c5d3e-2bbc-4d7b-83b1-d5d3058d004d"
      },
      "source": [
        "\n",
        "print(sorted([(input(\"Enter rollno: \"), input(\"Enter marks: \")) for i in range(int(input(\"Enter number of students\")))], key=lambda x: x[1],reverse=True))\n",
        "\n",
        "7.\n",
        "print(sorted([(input(\"Enter name: \"), input(\"Enter salary: \")) for i in range(int(input(\"Enter number of employees\")))], key=lambda x: x[0]))"
      ],
      "execution_count": 1,
      "outputs": [
        {
          "output_type": "stream",
          "text": [
            "Enter number of students4\n",
            "Enter rollno: 4al17cs059\n",
            "Enter marks: 25\n",
            "Enter rollno: 4al17cs060\n",
            "Enter marks: 35\n",
            "Enter rollno: 4al17cs061\n",
            "Enter marks: 50\n",
            "Enter rollno: 4al17cs059\n",
            "Enter marks: 100\n",
            "[('4al17cs061', '50'), ('4al17cs060', '35'), ('4al17cs059', '25'), ('4al17cs059', '100')]\n",
            "Enter number of employees2\n",
            "Enter name: prajna\n",
            "Enter salary: 10000\n",
            "Enter name: pallavi\n",
            "Enter salary: 2000\n",
            "[('pallavi', '2000'), ('prajna', '10000')]\n"
          ],
          "name": "stdout"
        }
      ]
    }
  ]
}