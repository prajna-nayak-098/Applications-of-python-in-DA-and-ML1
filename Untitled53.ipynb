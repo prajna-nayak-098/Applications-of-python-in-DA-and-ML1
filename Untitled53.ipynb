{
  "nbformat": 4,
  "nbformat_minor": 0,
  "metadata": {
    "colab": {
      "name": "Untitled53.ipynb",
      "provenance": [],
      "authorship_tag": "ABX9TyMjW9ap46w5bK8UjAJcmiRv",
      "include_colab_link": true
    },
    "kernelspec": {
      "name": "python3",
      "display_name": "Python 3"
    }
  },
  "cells": [
    {
      "cell_type": "markdown",
      "metadata": {
        "id": "view-in-github",
        "colab_type": "text"
      },
      "source": [
        "<a href=\"https://colab.research.google.com/github/prajna-nayak-098/Applications-of-python-in-DA-and-ML1/blob/master/Untitled53.ipynb\" target=\"_parent\"><img src=\"https://colab.research.google.com/assets/colab-badge.svg\" alt=\"Open In Colab\"/></a>"
      ]
    },
    {
      "cell_type": "code",
      "metadata": {
        "id": "AvJj6nEXVcwD",
        "colab_type": "code",
        "colab": {
          "base_uri": "https://localhost:8080/",
          "height": 134
        },
        "outputId": "5900e38a-3277-431f-eb13-f9fdfabb00cd"
      },
      "source": [
        "a=[]\n",
        "n= int(input(\"Enter the number of elements in list:\"))\n",
        "for x in range(0,n):\n",
        "    element=input(\"Enter element\" + str(x+1) + \":\")\n",
        "    a.append(element)\n",
        "max1=len(a[0])\n",
        "temp=a[0]\n",
        "for i in a:\n",
        "    if(len(i)>max1):\n",
        "       max1=len(i)\n",
        "       temp=i\n",
        "print(\"The word with the longest length is:\")\n",
        "print(temp)"
      ],
      "execution_count": 2,
      "outputs": [
        {
          "output_type": "stream",
          "text": [
            "Enter the number of elements in list:4\n",
            "Enter element1:2\n",
            "Enter element2:5\n",
            "Enter element3:8\n",
            "Enter element4:9\n",
            "The word with the longest length is:\n",
            "2\n"
          ],
          "name": "stdout"
        }
      ]
    }
  ]
}