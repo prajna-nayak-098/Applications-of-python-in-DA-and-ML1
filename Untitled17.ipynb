{
  "nbformat": 4,
  "nbformat_minor": 0,
  "metadata": {
    "colab": {
      "name": "Untitled17.ipynb",
      "provenance": [],
      "authorship_tag": "ABX9TyMVPVj4hWNbC6q8ZkOklbyx",
      "include_colab_link": true
    },
    "kernelspec": {
      "name": "python3",
      "display_name": "Python 3"
    }
  },
  "cells": [
    {
      "cell_type": "markdown",
      "metadata": {
        "id": "view-in-github",
        "colab_type": "text"
      },
      "source": [
        "<a href=\"https://colab.research.google.com/github/prajna-nayak-098/Applications-of-python-in-DA-and-ML1/blob/master/Untitled17.ipynb\" target=\"_parent\"><img src=\"https://colab.research.google.com/assets/colab-badge.svg\" alt=\"Open In Colab\"/></a>"
      ]
    },
    {
      "cell_type": "code",
      "metadata": {
        "id": "iIx2csMMdQJ4",
        "colab_type": "code",
        "colab": {
          "base_uri": "https://localhost:8080/",
          "height": 84
        },
        "outputId": "e01185ef-033e-437b-83bd-a3a3a96371cb"
      },
      "source": [
        "import math\n",
        "def Cylinder(r,h):\n",
        "  return 2*math.pi*r*r*h\n",
        "def cone(r,h):\n",
        "  return (1/3)*math.pi*r*r*h\n",
        "r=int(input(\"enter r value : \"))\n",
        "h=int(input(\"enter h value\"))\n",
        "print(\"surface area of cylinder is : %.2f\"%Cylinder(r,h))\n",
        "print(\"surface area of cone is : %.2f \"%cone(r,h))\n"
      ],
      "execution_count": 1,
      "outputs": [
        {
          "output_type": "stream",
          "text": [
            "enter r value : 2\n",
            "enter h value3\n",
            "surface area of cylinder is : 75.40\n",
            "surface area of cone is : 12.57 \n"
          ],
          "name": "stdout"
        }
      ]
    }
  ]
}