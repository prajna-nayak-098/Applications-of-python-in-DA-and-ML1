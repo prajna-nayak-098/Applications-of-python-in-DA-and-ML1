{
  "nbformat": 4,
  "nbformat_minor": 0,
  "metadata": {
    "colab": {
      "name": "Untitled61.ipynb",
      "provenance": [],
      "authorship_tag": "ABX9TyMpDs6lXm4RAPSx+Ye9qQOK",
      "include_colab_link": true
    },
    "kernelspec": {
      "name": "python3",
      "display_name": "Python 3"
    }
  },
  "cells": [
    {
      "cell_type": "markdown",
      "metadata": {
        "id": "view-in-github",
        "colab_type": "text"
      },
      "source": [
        "<a href=\"https://colab.research.google.com/github/prajna-nayak-098/Applications-of-python-in-DA-and-ML1/blob/master/Untitled61.ipynb\" target=\"_parent\"><img src=\"https://colab.research.google.com/assets/colab-badge.svg\" alt=\"Open In Colab\"/></a>"
      ]
    },
    {
      "cell_type": "code",
      "metadata": {
        "id": "WVggsKY5eDtb",
        "colab_type": "code",
        "colab": {
          "base_uri": "https://localhost:8080/",
          "height": 101
        },
        "outputId": "1e42964f-c737-4a9d-dfe7-ab8f99305791"
      },
      "source": [
        "d = {'a':1,'b':2,'c':3,'d':4}\n",
        "print(\"Initial dictionary\")\n",
        "print(d)\n",
        "key=input(\"Enter the key to delete(a-d):\")\n",
        "if key in d: \n",
        "    del d[key]\n",
        "else:\n",
        "    print(\"Key not found!\")\n",
        "    exit(0)\n",
        "print(\"Updated dictionary\")\n",
        "print(d)\n"
      ],
      "execution_count": 1,
      "outputs": [
        {
          "output_type": "stream",
          "text": [
            "Initial dictionary\n",
            "{'a': 1, 'b': 2, 'c': 3, 'd': 4}\n",
            "Enter the key to delete(a-d):b\n",
            "Updated dictionary\n",
            "{'a': 1, 'c': 3, 'd': 4}\n"
          ],
          "name": "stdout"
        }
      ]
    }
  ]
}